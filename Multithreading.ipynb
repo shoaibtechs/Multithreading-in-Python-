{
 "cells": [
  {
   "cell_type": "code",
   "execution_count": 99,
   "metadata": {},
   "outputs": [
    {
     "name": "stdout",
     "output_type": "stream",
     "text": [
      "calculate square numbers\n",
      "square: 4\n",
      "square: 9\n",
      "square: 64\n",
      "square: 81\n",
      "calculate cube of numbers\n",
      "cube: 8\n",
      "cube: 27\n",
      "cube: 512\n",
      "cube: 729\n",
      "done in :  9.61894965171814\n"
     ]
    }
   ],
   "source": [
    "import time\n",
    "\n",
    "def calc_square(numbers):\n",
    "    print(\"calculate square numbers\")\n",
    "    for n in numbers:\n",
    "        time.sleep(1.2)\n",
    "        print('square:',n*n)\n",
    "\n",
    "def calc_cube(numbers):\n",
    "    print(\"calculate cube of numbers\")\n",
    "    for n in numbers:\n",
    "        time.sleep(1.2)\n",
    "        print('cube:',n*n*n)\n",
    "\n",
    "arr = [2,3,8,9]\n",
    "\n",
    "t= time.time()\n",
    "calc_square(arr)\n",
    "calc_cube(arr)\n",
    "\n",
    "\n",
    "\n",
    "print(\"done in : \",time.time()-t)"
   ]
  },
  {
   "cell_type": "markdown",
   "metadata": {},
   "source": [
    "#                                                   MultiThreading "
   ]
  },
  {
   "cell_type": "code",
   "execution_count": 98,
   "metadata": {},
   "outputs": [
    {
     "name": "stdout",
     "output_type": "stream",
     "text": [
      "calculate square numbers\n",
      "calculate cube of numbers\n",
      "square: 4\n",
      "cube: 8\n",
      "square:cube:  27\n",
      "9\n",
      "cube: 512\n",
      "square: 64\n",
      "cube: 729\n",
      "square: 81\n",
      "done in :  4.812320232391357\n"
     ]
    }
   ],
   "source": [
    "import time\n",
    "import threading\n",
    "\n",
    "def calc_square(numbers):\n",
    "    print(\"calculate square numbers\")\n",
    "    for n in numbers:\n",
    "        time.sleep(1.2)\n",
    "        print('square:',n*n)\n",
    "\n",
    "def calc_cube(numbers):\n",
    "    print(\"calculate cube of numbers\")\n",
    "    for n in numbers:\n",
    "        time.sleep(1.2)\n",
    "        print('cube:',n*n*n)\n",
    "\n",
    "arr = [2,3,8,9]\n",
    "\n",
    "t = time.time()\n",
    "\n",
    "t1= threading.Thread(target=calc_square, args=(arr,))\n",
    "t2= threading.Thread(target=calc_cube, args=(arr,))\n",
    "\n",
    "t1.start()\n",
    "t2.start()\n",
    "\n",
    "t1.join()\n",
    "t2.join()\n",
    "\n",
    "print(\"done in : \",time.time()-t)"
   ]
  },
  {
   "cell_type": "markdown",
   "metadata": {},
   "source": [
    "# Problems that can be faced with Multithreading"
   ]
  },
  {
   "cell_type": "code",
   "execution_count": 62,
   "metadata": {},
   "outputs": [],
   "source": [
    "import threading\n",
    "import time"
   ]
  },
  {
   "cell_type": "code",
   "execution_count": 100,
   "metadata": {},
   "outputs": [],
   "source": [
    "num_threads = 5\n",
    "iterations_in_one_thread = 100"
   ]
  },
  {
   "cell_type": "code",
   "execution_count": 101,
   "metadata": {},
   "outputs": [],
   "source": [
    "counter = 0"
   ]
  },
  {
   "cell_type": "code",
   "execution_count": 102,
   "metadata": {},
   "outputs": [],
   "source": [
    "def f():\n",
    "    global counter \n",
    "    \n",
    "    for i in range(iterations_in_one_thread):\n",
    "        v = counter \n",
    "        time.sleep(0.0000000000000001)\n",
    "        v += 1\n",
    "        counter = v"
   ]
  },
  {
   "cell_type": "code",
   "execution_count": 103,
   "metadata": {},
   "outputs": [],
   "source": [
    "def run_experiment():\n",
    "    global counter \n",
    "    counter = 0\n",
    "    threads = []\n",
    "    \n",
    "    for i in range(num_threads):\n",
    "        t = threading.Thread(target = f)\n",
    "        threads.append(t)\n",
    "        t.start()\n",
    "        \n",
    "    for i in threads:\n",
    "        i.join()\n",
    "        \n",
    "    \n",
    "    print(\"Calculated values: %d\" % counter )\n",
    "    print(\"expected value:  \",num_threads * iterations_in_one_thread)\n",
    "    \n",
    "    "
   ]
  },
  {
   "cell_type": "code",
   "execution_count": 104,
   "metadata": {},
   "outputs": [
    {
     "name": "stdout",
     "output_type": "stream",
     "text": [
      "Calculated values: 113\n",
      "expected value:   500\n"
     ]
    }
   ],
   "source": [
    "run_experiment()"
   ]
  },
  {
   "cell_type": "markdown",
   "metadata": {},
   "source": [
    "# Expectation versus Reality"
   ]
  },
  {
   "cell_type": "markdown",
   "metadata": {},
   "source": [
    "### This is what we expect will happen. "
   ]
  },
  {
   "cell_type": "code",
   "execution_count": 105,
   "metadata": {},
   "outputs": [
    {
     "name": "stdout",
     "output_type": "stream",
     "text": [
      "2\n"
     ]
    }
   ],
   "source": [
    "counter = 0\n",
    "\n",
    "v1 = counter   # v1 = 0\n",
    "v1 += 1        # v1 = 1  \n",
    "counter =  v1  # counter =  1\n",
    "\n",
    "v2 = counter   # v2 =  1\n",
    "v2 += 1        # v2 = 2\n",
    "counter = v2   # counter = 2\n",
    "\n",
    "print(counter)"
   ]
  },
  {
   "cell_type": "markdown",
   "metadata": {},
   "source": [
    "### This is what really happens."
   ]
  },
  {
   "cell_type": "code",
   "execution_count": 106,
   "metadata": {},
   "outputs": [
    {
     "name": "stdout",
     "output_type": "stream",
     "text": [
      "1\n"
     ]
    }
   ],
   "source": [
    "counter = 0\n",
    "\n",
    "#-- thread 1 start\n",
    "v1 = counter        # v1 = 0\n",
    "v1 += 1             # v1 = 1\n",
    "\n",
    "#-------break\n",
    "\n",
    "\n",
    "#--- thread 2 start\n",
    "\n",
    "v2 = counter       # v2 = 0 \n",
    "v2 = 100           # v2 = 100\n",
    "counter = v2        #counter = 100\n",
    "\n",
    "\n",
    "#---- back to thread 1 \n",
    "\n",
    "counter = v1      # counter = 1 \n",
    "\n",
    "#----- thread 1 done \n",
    "\n",
    "print(counter)"
   ]
  },
  {
   "cell_type": "markdown",
   "metadata": {},
   "source": [
    "# Solution "
   ]
  },
  {
   "cell_type": "code",
   "execution_count": 107,
   "metadata": {},
   "outputs": [],
   "source": [
    "lock = threading.Lock()"
   ]
  },
  {
   "cell_type": "code",
   "execution_count": 108,
   "metadata": {},
   "outputs": [],
   "source": [
    "def f():\n",
    "    global counter \n",
    "    \n",
    "    for i in range(iterations_in_one_thread):\n",
    "        lock.acquire()\n",
    "        v = counter \n",
    "        time.sleep(0.0000000000000000001)\n",
    "        v += 1\n",
    "        counter = v\n",
    "        lock.release()"
   ]
  },
  {
   "cell_type": "code",
   "execution_count": 109,
   "metadata": {
    "scrolled": true
   },
   "outputs": [
    {
     "name": "stdout",
     "output_type": "stream",
     "text": [
      "Calculated values: 500\n",
      "expected value:   500\n"
     ]
    }
   ],
   "source": [
    "run_experiment()"
   ]
  },
  {
   "cell_type": "markdown",
   "metadata": {},
   "source": [
    "# With"
   ]
  },
  {
   "cell_type": "code",
   "execution_count": 110,
   "metadata": {},
   "outputs": [],
   "source": [
    "def f():\n",
    "    global counter, lock \n",
    "    for i in range(iterations_in_one_thread):\n",
    "        with lock:             # begin critical context  \n",
    "            v = counter\n",
    "            time.sleep(0.00000000000001)  # Do some stuff \n",
    "            v += 1\n",
    "            counter = v"
   ]
  },
  {
   "cell_type": "code",
   "execution_count": 111,
   "metadata": {},
   "outputs": [
    {
     "name": "stdout",
     "output_type": "stream",
     "text": [
      "Calculated values: 500\n",
      "expected value:   500\n"
     ]
    }
   ],
   "source": [
    "run_experiment()"
   ]
  },
  {
   "cell_type": "code",
   "execution_count": null,
   "metadata": {},
   "outputs": [],
   "source": []
  }
 ],
 "metadata": {
  "kernelspec": {
   "display_name": "Python 3",
   "language": "python",
   "name": "python3"
  },
  "language_info": {
   "codemirror_mode": {
    "name": "ipython",
    "version": 3
   },
   "file_extension": ".py",
   "mimetype": "text/x-python",
   "name": "python",
   "nbconvert_exporter": "python",
   "pygments_lexer": "ipython3",
   "version": "3.7.6"
  }
 },
 "nbformat": 4,
 "nbformat_minor": 4
}
